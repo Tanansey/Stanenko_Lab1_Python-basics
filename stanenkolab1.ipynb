{
 "cells": [
  {
   "cell_type": "markdown",
   "source": [
    "1.Функція з одним аргументом, яка перевіряє чи є аргумент числом.\n",
    "Якщо ТАК - повертає чи є це цисло парним чи не парним.\n",
    "Якщо аргумент НЕ число - повертає пусту строку."
   ],
   "metadata": {
    "collapsed": false
   }
  },
  {
   "cell_type": "code",
   "execution_count": 16,
   "outputs": [
    {
     "name": "stdout",
     "output_type": "stream",
     "text": [
      "\n",
      "Thank you! The number you entered: 23.0\n",
      "This number is NOT PAIRED.\n",
      "\n",
      "\n",
      "hello  - Is not a NUMBER!\n",
      "\n",
      "Thank you! The number you entered: 48.0\n",
      "This number is PAIRED.\n",
      "\n",
      "Exiting program. Thank you for using!\n"
     ]
    }
   ],
   "source": [
    "while True:\n",
    "    try:\n",
    "        num = input(\"\\nPlease, enter the required NUMBER: \")\n",
    "        num = float(num)\n",
    "        print(\"\\nThank you! The number you entered:\",num)\n",
    "\n",
    "        if num % 2 == 0:\n",
    "            print(\"This number is PAIRED.\\n\")\n",
    "        else:\n",
    "            print(\"This number is NOT PAIRED.\\n\")\n",
    "\n",
    "        choice = input(\"Enter 'q' to quit or any other key to continue: \")\n",
    "        if choice == 'q':\n",
    "            break\n",
    "    except ValueError:\n",
    "        print(\"\\n\"+num,\" - Is not a NUMBER!\")\n",
    "print(\"Exiting program. Thank you for using!\")"
   ],
   "metadata": {
    "collapsed": false,
    "ExecuteTime": {
     "start_time": "2023-04-11T15:19:18.657511Z",
     "end_time": "2023-04-11T15:19:42.395506Z"
    }
   }
  },
  {
   "cell_type": "markdown",
   "source": [
    "2. Написати функцію, яка починає перебирати числа від 1 до нескінченності і перевіряє чи є число простим.\n",
    "Якщо просте число знайдене - воно додається до списку.\n",
    "Після пʼятого знайденого простого числа функція повинна повернути суму всіх пʼяти простих чисел у списку."
   ],
   "metadata": {
    "collapsed": false
   }
  },
  {
   "cell_type": "code",
   "execution_count": 17,
   "outputs": [
    {
     "name": "stdout",
     "output_type": "stream",
     "text": [
      "The 5 prime numbers you entered: [7, 17, 3, 13, 2]\n",
      "The sum of these prime numbers: 42\n"
     ]
    }
   ],
   "source": [
    "def is_prime(n):\n",
    "    if n < 2:\n",
    "        return False\n",
    "    for i in range(2, int(n**0.5) + 1):\n",
    "        if n % i == 0:\n",
    "            return False\n",
    "    return True\n",
    "primes = []\n",
    "count = 0\n",
    "\n",
    "while True:\n",
    "    num = input(\"Please enter the required number: \")\n",
    "    if not num.isdigit():\n",
    "        print(\"Invalid input. Please enter a positive integer.\")\n",
    "        continue\n",
    "    num = int(num)\n",
    "    if is_prime(num):\n",
    "        primes.append(num)\n",
    "        count += 1\n",
    "    if count == 5:\n",
    "        print(\"The 5 prime numbers you entered:\", primes)\n",
    "        print(\"The sum of these prime numbers:\", sum(primes))\n",
    "        choice = input(\"Enter 'q' to quit or any other key to continue: \")\n",
    "        if choice == 'q':\n",
    "            break\n",
    "        else:\n",
    "            count = 0\n",
    "            primes = []"
   ],
   "metadata": {
    "collapsed": false,
    "ExecuteTime": {
     "start_time": "2023-04-11T15:29:48.136996Z",
     "end_time": "2023-04-11T15:30:25.016322Z"
    }
   }
  },
  {
   "cell_type": "markdown",
   "source": [
    "3. Написати функцію з одним аргументом num, що є числом.\n",
    "Функція повинна повернути суму наступного ряду з n чисел 1 + 11 + 111 + 1111 + ...., де кожний елемент - число з постійно зростаючою кількістю одиниць."
   ],
   "metadata": {
    "collapsed": false
   }
  },
  {
   "cell_type": "code",
   "execution_count": 19,
   "outputs": [
    {
     "name": "stdout",
     "output_type": "stream",
     "text": [
      "The number you entered: 15\n",
      "The sum of the series is: 123456790123455\n"
     ]
    }
   ],
   "source": [
    "num = int(input(\"Enter a number: \"))\n",
    "print(\"The number you entered:\", num)\n",
    "\n",
    "current = 1\n",
    "total = 0\n",
    "\n",
    "for i in range(num):\n",
    "    total += current\n",
    "    current = current * 10 + 1\n",
    "\n",
    "print(\"The sum of the series is:\", total)"
   ],
   "metadata": {
    "collapsed": false,
    "ExecuteTime": {
     "start_time": "2023-04-11T15:44:10.742997Z",
     "end_time": "2023-04-11T15:44:12.687788Z"
    }
   }
  }
 ],
 "metadata": {
  "kernelspec": {
   "display_name": "Python 3",
   "language": "python",
   "name": "python3"
  },
  "language_info": {
   "codemirror_mode": {
    "name": "ipython",
    "version": 2
   },
   "file_extension": ".py",
   "mimetype": "text/x-python",
   "name": "python",
   "nbconvert_exporter": "python",
   "pygments_lexer": "ipython2",
   "version": "2.7.6"
  }
 },
 "nbformat": 4,
 "nbformat_minor": 0
}
